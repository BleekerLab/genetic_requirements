{
 "cells": [
  {
   "cell_type": "code",
   "execution_count": 1,
   "metadata": {},
   "outputs": [],
   "source": [
    "from Bio import SeqIO\n",
    "import pandas as pd\n",
    "from helpers import add_blast_header_to_file"
   ]
  },
  {
   "cell_type": "markdown",
   "metadata": {},
   "source": [
    "# Extract the protein fasta sequences using the locus identifiers"
   ]
  },
  {
   "cell_type": "code",
   "execution_count": 2,
   "metadata": {},
   "outputs": [],
   "source": [
    "# file available at https://zenodo.org/record/3712239\n",
    "with open(\"ITAG4.0_cDNA.fasta\",\"r\") as filin:\n",
    "    recs = [rec for rec in SeqIO.parse(filin,\"fasta\")]"
   ]
  },
  {
   "cell_type": "code",
   "execution_count": 3,
   "metadata": {},
   "outputs": [
    {
     "data": {
      "text/html": [
       "<div>\n",
       "<style scoped>\n",
       "    .dataframe tbody tr th:only-of-type {\n",
       "        vertical-align: middle;\n",
       "    }\n",
       "\n",
       "    .dataframe tbody tr th {\n",
       "        vertical-align: top;\n",
       "    }\n",
       "\n",
       "    .dataframe thead th {\n",
       "        text-align: right;\n",
       "    }\n",
       "</style>\n",
       "<table border=\"1\" class=\"dataframe\">\n",
       "  <thead>\n",
       "    <tr style=\"text-align: right;\">\n",
       "      <th></th>\n",
       "      <th>Sequence_ID</th>\n",
       "      <th>Functional.annotation</th>\n",
       "      <th>baseMean</th>\n",
       "      <th>log2FoldChange</th>\n",
       "      <th>lfcSE</th>\n",
       "      <th>stat</th>\n",
       "      <th>pvalue</th>\n",
       "      <th>padj</th>\n",
       "      <th>CV</th>\n",
       "      <th>F1</th>\n",
       "      <th>F1_hab</th>\n",
       "      <th>F2_127</th>\n",
       "      <th>F2_151</th>\n",
       "      <th>F2_28</th>\n",
       "      <th>F2_411</th>\n",
       "      <th>F2_445</th>\n",
       "      <th>F2_73</th>\n",
       "      <th>PI127826</th>\n",
       "    </tr>\n",
       "  </thead>\n",
       "  <tbody>\n",
       "    <tr>\n",
       "      <th>0</th>\n",
       "      <td>Solyc10g005840</td>\n",
       "      <td>Farnesyl pyrophosphate synthase</td>\n",
       "      <td>365.199108</td>\n",
       "      <td>2.290849</td>\n",
       "      <td>0.516305</td>\n",
       "      <td>4.437009</td>\n",
       "      <td>0.000009</td>\n",
       "      <td>0.002852</td>\n",
       "      <td>792</td>\n",
       "      <td>728</td>\n",
       "      <td>62</td>\n",
       "      <td>55</td>\n",
       "      <td>521</td>\n",
       "      <td>354</td>\n",
       "      <td>457</td>\n",
       "      <td>601</td>\n",
       "      <td>86</td>\n",
       "      <td>79</td>\n",
       "    </tr>\n",
       "    <tr>\n",
       "      <th>1</th>\n",
       "      <td>Solyc10g005820</td>\n",
       "      <td>Farnesyl pyrophosphate synthase</td>\n",
       "      <td>611.355900</td>\n",
       "      <td>-1.788514</td>\n",
       "      <td>0.467578</td>\n",
       "      <td>-3.825060</td>\n",
       "      <td>0.000131</td>\n",
       "      <td>0.016354</td>\n",
       "      <td>366</td>\n",
       "      <td>299</td>\n",
       "      <td>1528</td>\n",
       "      <td>330</td>\n",
       "      <td>217</td>\n",
       "      <td>565</td>\n",
       "      <td>401</td>\n",
       "      <td>134</td>\n",
       "      <td>680</td>\n",
       "      <td>1822</td>\n",
       "    </tr>\n",
       "    <tr>\n",
       "      <th>2</th>\n",
       "      <td>Solyc06g066310</td>\n",
       "      <td>Phosphomevalonate kinase</td>\n",
       "      <td>1724.742259</td>\n",
       "      <td>-2.545413</td>\n",
       "      <td>0.678477</td>\n",
       "      <td>-3.751659</td>\n",
       "      <td>0.000176</td>\n",
       "      <td>0.020278</td>\n",
       "      <td>237</td>\n",
       "      <td>722</td>\n",
       "      <td>5804</td>\n",
       "      <td>748</td>\n",
       "      <td>261</td>\n",
       "      <td>632</td>\n",
       "      <td>716</td>\n",
       "      <td>612</td>\n",
       "      <td>1367</td>\n",
       "      <td>6899</td>\n",
       "    </tr>\n",
       "  </tbody>\n",
       "</table>\n",
       "</div>"
      ],
      "text/plain": [
       "      Sequence_ID             Functional.annotation     baseMean  \\\n",
       "0  Solyc10g005840  Farnesyl pyrophosphate synthase    365.199108   \n",
       "1  Solyc10g005820  Farnesyl pyrophosphate synthase    611.355900   \n",
       "2  Solyc06g066310         Phosphomevalonate kinase   1724.742259   \n",
       "\n",
       "   log2FoldChange     lfcSE      stat    pvalue      padj   CV   F1  F1_hab  \\\n",
       "0        2.290849  0.516305  4.437009  0.000009  0.002852  792  728      62   \n",
       "1       -1.788514  0.467578 -3.825060  0.000131  0.016354  366  299    1528   \n",
       "2       -2.545413  0.678477 -3.751659  0.000176  0.020278  237  722    5804   \n",
       "\n",
       "   F2_127  F2_151  F2_28  F2_411  F2_445  F2_73  PI127826  \n",
       "0      55     521    354     457     601     86        79  \n",
       "1     330     217    565     401     134    680      1822  \n",
       "2     748     261    632     716     612   1367      6899  "
      ]
     },
     "execution_count": 3,
     "metadata": {},
     "output_type": "execute_result"
    }
   ],
   "source": [
    "precursor_genes_table = pd.read_csv(\"../targets.tsv\",sep=\"\\t\")\n",
    "precursor_genes_table.head(n=3)"
   ]
  },
  {
   "cell_type": "code",
   "execution_count": 4,
   "metadata": {},
   "outputs": [
    {
     "data": {
      "text/plain": [
       "['Solyc10g005840', 'Solyc10g005820']"
      ]
     },
     "execution_count": 4,
     "metadata": {},
     "output_type": "execute_result"
    }
   ],
   "source": [
    "precursor_loci = precursor_genes_table[\"Sequence_ID\"].tolist()\n",
    "precursor_loci[0:2]"
   ]
  },
  {
   "cell_type": "code",
   "execution_count": 5,
   "metadata": {},
   "outputs": [],
   "source": [
    "with open(\"precursor_mrnas.fa\",\"w\") as fileout:\n",
    "    for precursor in precursor_loci:\n",
    "        for rec in recs:\n",
    "            if precursor in rec.id:\n",
    "                fileout.write(\">\" + rec.id + \"\\n\" + str(rec.seq) + \"\\n\")\n",
    "    "
   ]
  },
  {
   "cell_type": "markdown",
   "metadata": {},
   "source": [
    "# BLAT the protein sequences against the habrochaites genome"
   ]
  },
  {
   "cell_type": "code",
   "execution_count": 6,
   "metadata": {
    "scrolled": true
   },
   "outputs": [
    {
     "name": "stdout",
     "output_type": "stream",
     "text": [
      "Loaded 69600 letters in 41 sequences\n",
      "Query sequence Super-Scaffold_67 has size 12772664, it might take a while.\n",
      "Query sequence Super-Scaffold_71 has size 15961298, it might take a while.\n",
      "Query sequence Super-Scaffold_78 has size 25664899, it might take a while.\n",
      "Query sequence Super-Scaffold_79 has size 7533941, it might take a while.\n",
      "Query sequence Super-Scaffold_84 has size 26914694, it might take a while.\n",
      "Query sequence Super-Scaffold_100 has size 38267190, it might take a while.\n",
      "Query sequence Super-Scaffold_107 has size 13361701, it might take a while.\n",
      "Query sequence Super-Scaffold_109 has size 6463468, it might take a while.\n",
      "Query sequence Super-Scaffold_128 has size 6569248, it might take a while.\n",
      "Query sequence Super-Scaffold_171 has size 14400801, it might take a while.\n",
      "Query sequence Super-Scaffold_210 has size 5393027, it might take a while.\n",
      "Query sequence Super-Scaffold_299 has size 8137420, it might take a while.\n",
      "Query sequence Super-Scaffold_313 has size 6065232, it might take a while.\n",
      "Query sequence Super-Scaffold_547 has size 12219897, it might take a while.\n",
      "Query sequence Super-Scaffold_548 has size 12420804, it might take a while.\n",
      "Query sequence Super-Scaffold_34642 has size 12438955, it might take a while.\n",
      "Query sequence Super-Scaffold_34993 has size 5753187, it might take a while.\n",
      "Query sequence Super-Scaffold_45573 has size 35495321, it might take a while.\n",
      "Query sequence Super-Scaffold_45587 has size 10136404, it might take a while.\n",
      "Query sequence Super-Scaffold_45801 has size 25062982, it might take a while.\n",
      "Query sequence Super-Scaffold_91118 has size 10768289, it might take a while.\n",
      "Query sequence Super-Scaffold_124087 has size 16242048, it might take a while.\n",
      "Query sequence Super-Scaffold_136553 has size 23569473, it might take a while.\n",
      "Query sequence Super-Scaffold_136917 has size 14229177, it might take a while.\n",
      "Query sequence Super-Scaffold_1000003 has size 23295774, it might take a while.\n",
      "Query sequence Super-Scaffold_1000004 has size 22861965, it might take a while.\n",
      "Query sequence Super-Scaffold_1000005 has size 21197232, it might take a while.\n",
      "Query sequence Super-Scaffold_1000006 has size 20475742, it might take a while.\n",
      "Query sequence Super-Scaffold_1000007 has size 19512118, it might take a while.\n",
      "Query sequence Super-Scaffold_1000008 has size 18579132, it might take a while.\n",
      "Query sequence Super-Scaffold_1000009 has size 18985548, it might take a while.\n",
      "Query sequence Super-Scaffold_1000010 has size 17518539, it might take a while.\n",
      "Query sequence Super-Scaffold_1000013 has size 13813729, it might take a while.\n",
      "Query sequence Super-Scaffold_1000014 has size 14661395, it might take a while.\n",
      "Query sequence Super-Scaffold_1000015 has size 13838863, it might take a while.\n",
      "Query sequence Super-Scaffold_1000016 has size 14306024, it might take a while.\n",
      "Query sequence Super-Scaffold_1000019 has size 10241290, it might take a while.\n",
      "Query sequence Super-Scaffold_1000021 has size 10522186, it might take a while.\n",
      "Query sequence Super-Scaffold_1000024 has size 10966496, it might take a while.\n",
      "Query sequence Super-Scaffold_1000028 has size 8103848, it might take a while.\n",
      "Query sequence Super-Scaffold_1000029 has size 10334670, it might take a while.\n",
      "Query sequence Super-Scaffold_1000032 has size 8785877, it might take a while.\n",
      "Query sequence Super-Scaffold_1000033 has size 6347151, it might take a while.\n",
      "Query sequence Super-Scaffold_1000034 has size 9524296, it might take a while.\n",
      "Query sequence Super-Scaffold_1000036 has size 8438875, it might take a while.\n",
      "Query sequence Super-Scaffold_1000037 has size 7536264, it might take a while.\n",
      "Query sequence Super-Scaffold_1000038 has size 6053390, it might take a while.\n",
      "Query sequence Super-Scaffold_1000042 has size 7336328, it might take a while.\n",
      "Query sequence Super-Scaffold_1000044 has size 6410776, it might take a while.\n",
      "Query sequence Super-Scaffold_1000052 has size 5067519, it might take a while.\n",
      "Query sequence Super-Scaffold_1000053 has size 6145260, it might take a while.\n",
      "Query sequence Super-Scaffold_1000055 has size 5748209, it might take a while.\n",
      "Query sequence Super-Scaffold_1000058 has size 5179538, it might take a while.\n",
      "Query sequence Super-Scaffold_1000061 has size 5235277, it might take a while.\n",
      "Query sequence Super-Scaffold_1000065 has size 5337345, it might take a while.\n",
      "Query sequence Super-Scaffold_1000078 has size 5126947, it might take a while.\n",
      "Query sequence 316_obj has size 6829890, it might take a while.\n",
      "Query sequence 407_obj has size 6440039, it might take a while.\n",
      "Searched 1187726422 bases in 45235 sequences\n"
     ]
    }
   ],
   "source": [
    "{\n",
    "    \"tags\": [\n",
    "        \"hide_output\",\n",
    "    ]\n",
    "}\n",
    "! blat -t=dna -q=dna -minIdentity=90 -out=blast8 precursor_mrnas.fa PI127826.final.fasta output.blast8.tsv"
   ]
  },
  {
   "cell_type": "markdown",
   "metadata": {},
   "source": [
    "# Convert BLAT results to GFF format\n",
    "**GFF, or the General Feature Format** is used to describe genes and other features of DNA, RNA and protein sequences. It comes with the .gff extension.  \n",
    "Fields:\n",
    "* Column 1 is refseq name: Name of chromosome or scaffold. Chromosomes can be given without the 'chr' prefix.\t\n",
    "* Column 2 is source: Source of annotation, name of program that generated this feature.\t\n",
    "* Column 3 is feature: Feature type name. Gene, variation, similarity\t\n",
    "* Column 4 is start: Start position, starting at 1.\t\n",
    "* Column 5 is end: End position, starting at 1.\t\n",
    "* Column 6 is score: Floating point value. For scores such as similarity, identity, etc.\t\n",
    "* Column 7 is strand: '+' for forward and '-' for reverse.\t\n",
    "* Column 8 is frame: Either 0, 1 or 2.\t0 indicates first base of the feature is first base of codon, 1 indicates second base of feature is the first base of a codon, etc.\t\n",
    "* Column 9 is attribute: Semicolon-separated list of tag-value pairs. Provides additional information about each feature\n",
    "    \n",
    "To perform this step, I am using the `blast2gff` utility of the MGKit https://mgkit.readthedocs.io/en/0.3.4/scripts/blast2gff.html#options"
   ]
  },
  {
   "cell_type": "markdown",
   "metadata": {},
   "source": [
    "## Blast2gff options explained"
   ]
  },
  {
   "cell_type": "markdown",
   "metadata": {},
   "source": [
    "`--no-split`        the sequence header will be used as gene_id  \n",
    "`--db`              blastdb used (here PI12826.final.fasta)\n",
    "`--feat-type`       feature type to be used in the GFF file (exon)\n",
    "`output.blast8.tsv` Blast file name (input)  \n",
    "`PI127826.gff`      GFF file name (output)  "
   ]
  },
  {
   "cell_type": "code",
   "execution_count": 7,
   "metadata": {},
   "outputs": [
    {
     "name": "stderr",
     "output_type": "stream",
     "text": [
      "\u001b[32mINFO\u001b[0m - mgkit.workflow.blast2gff: Writing to file (PI127826.gff)\n",
      "\u001b[32mINFO\u001b[0m - mgkit.io.blast: Reading BLAST results from file (output.blast8.tsv)\n",
      "\u001b[32mINFO\u001b[0m - mgkit.io.blast: Read 795 BLAST records\n"
     ]
    }
   ],
   "source": [
    "%%bash\n",
    "\n",
    "blast2gff blastdb --no-split \\\n",
    "                  --db-used PI127826.final.fasta \\\n",
    "                  --feat-type exon \\\n",
    "                  output.blast8.tsv \\\n",
    "                  PI127826.gff              "
   ]
  },
  {
   "cell_type": "code",
   "execution_count": 8,
   "metadata": {
    "scrolled": true
   },
   "outputs": [
    {
     "data": {
      "text/html": [
       "<div>\n",
       "<style scoped>\n",
       "    .dataframe tbody tr th:only-of-type {\n",
       "        vertical-align: middle;\n",
       "    }\n",
       "\n",
       "    .dataframe tbody tr th {\n",
       "        vertical-align: top;\n",
       "    }\n",
       "\n",
       "    .dataframe thead th {\n",
       "        text-align: right;\n",
       "    }\n",
       "</style>\n",
       "<table border=\"1\" class=\"dataframe\">\n",
       "  <thead>\n",
       "    <tr style=\"text-align: right;\">\n",
       "      <th></th>\n",
       "      <th>0</th>\n",
       "      <th>1</th>\n",
       "      <th>2</th>\n",
       "      <th>3</th>\n",
       "      <th>4</th>\n",
       "      <th>5</th>\n",
       "      <th>6</th>\n",
       "      <th>7</th>\n",
       "      <th>8</th>\n",
       "    </tr>\n",
       "  </thead>\n",
       "  <tbody>\n",
       "    <tr>\n",
       "      <th>0</th>\n",
       "      <td>Super-Scaffold_67</td>\n",
       "      <td>BLAST</td>\n",
       "      <td>exon</td>\n",
       "      <td>6484348</td>\n",
       "      <td>6484601</td>\n",
       "      <td>477.0</td>\n",
       "      <td>+</td>\n",
       "      <td>0</td>\n",
       "      <td>bitscore=\"477.0\";db=\"PI127826.final.fasta\";dbq...</td>\n",
       "    </tr>\n",
       "    <tr>\n",
       "      <th>1</th>\n",
       "      <td>Super-Scaffold_67</td>\n",
       "      <td>BLAST</td>\n",
       "      <td>exon</td>\n",
       "      <td>6488371</td>\n",
       "      <td>6488497</td>\n",
       "      <td>245.0</td>\n",
       "      <td>+</td>\n",
       "      <td>0</td>\n",
       "      <td>bitscore=\"245.0\";db=\"PI127826.final.fasta\";dbq...</td>\n",
       "    </tr>\n",
       "    <tr>\n",
       "      <th>2</th>\n",
       "      <td>Super-Scaffold_67</td>\n",
       "      <td>BLAST</td>\n",
       "      <td>exon</td>\n",
       "      <td>6486478</td>\n",
       "      <td>6486600</td>\n",
       "      <td>229.0</td>\n",
       "      <td>+</td>\n",
       "      <td>0</td>\n",
       "      <td>bitscore=\"229.0\";db=\"PI127826.final.fasta\";dbq...</td>\n",
       "    </tr>\n",
       "  </tbody>\n",
       "</table>\n",
       "</div>"
      ],
      "text/plain": [
       "                   0      1     2        3        4      5  6  7  \\\n",
       "0  Super-Scaffold_67  BLAST  exon  6484348  6484601  477.0  +  0   \n",
       "1  Super-Scaffold_67  BLAST  exon  6488371  6488497  245.0  +  0   \n",
       "2  Super-Scaffold_67  BLAST  exon  6486478  6486600  229.0  +  0   \n",
       "\n",
       "                                                   8  \n",
       "0  bitscore=\"477.0\";db=\"PI127826.final.fasta\";dbq...  \n",
       "1  bitscore=\"245.0\";db=\"PI127826.final.fasta\";dbq...  \n",
       "2  bitscore=\"229.0\";db=\"PI127826.final.fasta\";dbq...  "
      ]
     },
     "execution_count": 8,
     "metadata": {},
     "output_type": "execute_result"
    }
   ],
   "source": [
    "pd.read_csv(\"PI127826.gff\",sep=\"\\t\",header=None).head(n=3)"
   ]
  },
  {
   "cell_type": "markdown",
   "metadata": {},
   "source": [
    "# Small changes for downstream compatibility \n",
    "The produced annotation needs to be compatible with the RNA-seq pipeline (that only accepts GTF)."
   ]
  },
  {
   "cell_type": "code",
   "execution_count": 24,
   "metadata": {},
   "outputs": [],
   "source": [
    "! sed 's/gene_id/transcript_id/g' PI127826.gff > ../PI127826_annotation.gtf"
   ]
  },
  {
   "cell_type": "code",
   "execution_count": 25,
   "metadata": {},
   "outputs": [
    {
     "name": "stdout",
     "output_type": "stream",
     "text": [
      "Super-Scaffold_67\tBLAST\texon\t6484348\t6484601\t477.0\t+\t0\tbitscore=\"477.0\";db=\"PI127826.final.fasta\";dbq=\"10\";evalue=\"7.6e-135\";frame=\"f0\";transcript_id=\"Solyc12g015860.2.1\";identity=\"98.03\";subject_end=\"1065\";subject_start=\"1318\";uid=\"448f69a2-fac0-4b14-8e7d-06282a8bec8e\"\r\n",
      "Super-Scaffold_67\tBLAST\texon\t6488371\t6488497\t245.0\t+\t0\tbitscore=\"245.0\";db=\"PI127826.final.fasta\";dbq=\"10\";evalue=\"6.7e-65\";frame=\"f0\";transcript_id=\"Solyc12g015860.2.1\";identity=\"100.0\";subject_end=\"144\";subject_start=\"270\";uid=\"7367b446-7653-4a4f-b1ff-dfc313c203f6\"\r\n",
      "Super-Scaffold_67\tBLAST\texon\t6486478\t6486600\t229.0\t+\t0\tbitscore=\"229.0\";db=\"PI127826.final.fasta\";dbq=\"10\";evalue=\"2.8e-60\";frame=\"f0\";transcript_id=\"Solyc12g015860.2.1\";identity=\"98.37\";subject_end=\"501\";subject_start=\"623\";uid=\"833d0c22-27da-4981-a561-2758af03412e\"\r\n"
     ]
    }
   ],
   "source": [
    "! head -n 3 ../PI127826_annotation.gtf"
   ]
  },
  {
   "cell_type": "code",
   "execution_count": null,
   "metadata": {},
   "outputs": [],
   "source": []
  }
 ],
 "metadata": {
  "kernelspec": {
   "display_name": "Python 3",
   "language": "python",
   "name": "python3"
  },
  "language_info": {
   "codemirror_mode": {
    "name": "ipython",
    "version": 3
   },
   "file_extension": ".py",
   "mimetype": "text/x-python",
   "name": "python",
   "nbconvert_exporter": "python",
   "pygments_lexer": "ipython3",
   "version": "3.7.5"
  }
 },
 "nbformat": 4,
 "nbformat_minor": 2
}
